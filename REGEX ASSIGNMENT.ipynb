{
 "cells": [
  {
   "cell_type": "code",
   "execution_count": 1,
   "id": "20d745cc",
   "metadata": {},
   "outputs": [
    {
     "name": "stdout",
     "output_type": "stream",
     "text": [
      "Python:Exercises::PHP:exercises:\n"
     ]
    }
   ],
   "source": [
    "def replace_chars_with_colon(input_string):\n",
    "   \n",
    "    modified_string = input_string.replace(' ', ':').replace(',', ':').replace('.', ':')\n",
    "    return modified_string\n",
    "\n",
    "sample_text = 'Python Exercises, PHP exercises.'\n",
    "\n",
    "result = replace_chars_with_colon(sample_text)\n",
    "\n",
    "print(result)\n",
    "\n"
   ]
  },
  {
   "cell_type": "code",
   "execution_count": 2,
   "id": "80a2933e",
   "metadata": {},
   "outputs": [
    {
     "name": "stdout",
     "output_type": "stream",
     "text": [
      "['Apple', 'and', 'are', 'Elephants', 'eat', 'apples', 'and']\n"
     ]
    }
   ],
   "source": [
    "##Write a Python program to find all words starting with 'a' or 'e' in a given string.\n",
    "\n",
    "import re\n",
    "\n",
    "def find_words_starting_with_a_or_e(input_string):\n",
    "    \n",
    "    pattern = r'\\b[aeAE]\\w+\\b'\n",
    "    matches = re.findall(pattern, input_string)\n",
    "    \n",
    "    return matches\n",
    "\n",
    "\n",
    "input_string = \"Apple and banana are delicious. Elephants eat apples and oranges.\"\n",
    "\n",
    "result = find_words_starting_with_a_or_e(input_string)\n",
    "\n",
    "print(result)\n"
   ]
  },
  {
   "cell_type": "code",
   "execution_count": 3,
   "id": "cb17c0a4",
   "metadata": {},
   "outputs": [
    {
     "name": "stdout",
     "output_type": "stream",
     "text": [
      "['Python', 'powerful', 'programming', 'language', 'OpenAI', 'amazing']\n"
     ]
    }
   ],
   "source": [
    "## Create a function in python to find all words that are at least 4 characters long in a string. The use of the re.compile()\n",
    "## method is mandatory.\n",
    "\n",
    "import re\n",
    "\n",
    "def find_words_at_least_4_chars(input_string):\n",
    "    \n",
    "    pattern = re.compile(r'\\b\\w{4,}\\b')\n",
    "   \n",
    "    matches = pattern.findall(input_string)\n",
    "    \n",
    "    return matches\n",
    "\n",
    "\n",
    "input_string = \"Python is a powerful programming language. OpenAI's GPT-3 is amazing!\"\n",
    "\n",
    "result = find_words_at_least_4_chars(input_string)\n",
    "\n",
    "print(result)"
   ]
  },
  {
   "cell_type": "code",
   "execution_count": 4,
   "id": "5cb28bb0",
   "metadata": {},
   "outputs": [
    {
     "name": "stdout",
     "output_type": "stream",
     "text": [
      "Words of length 3: ['GPT']\n",
      "Words of length 4: []\n",
      "Words of length 5: []\n"
     ]
    }
   ],
   "source": [
    "## Create a function in python to find all three, four, and five character words in a string. The use of the re.compile() method is mandatory.\n",
    "\n",
    "import re\n",
    "\n",
    "def find_words_of_lengths(input_string):\n",
    "   \n",
    "    pattern_3_chars = re.compile(r'\\b\\w{3}\\b')\n",
    "    pattern_4_chars = re.compile(r'\\b\\w{4}\\b')\n",
    "    pattern_5_chars = re.compile(r'\\b\\w{5}\\b')\n",
    "    \n",
    "    \n",
    "    matches_3_chars = pattern_3_chars.findall(input_string)\n",
    "    matches_4_chars = pattern_4_chars.findall(input_string)\n",
    "    matches_5_chars = pattern_5_chars.findall(input_string)\n",
    "    \n",
    "    return matches_3_chars, matches_4_chars, matches_5_chars\n",
    "\n",
    "\n",
    "input_string = \"Python is a powerful programming language. OpenAI's GPT-3 is amazing!\"\n",
    "\n",
    "\n",
    "result_3_chars, result_4_chars, result_5_chars = find_words_of_lengths(input_string)\n",
    "\n",
    "\n",
    "print(\"Words of length 3:\", result_3_chars)\n",
    "print(\"Words of length 4:\", result_4_chars)\n",
    "print(\"Words of length 5:\", result_5_chars)"
   ]
  },
  {
   "cell_type": "code",
   "execution_count": 5,
   "id": "0367550e",
   "metadata": {},
   "outputs": [
    {
     "name": "stdout",
     "output_type": "stream",
     "text": [
      "example \n",
      "hr@fliprobo \n",
      "github \n",
      "Hello \n",
      "Data \n"
     ]
    }
   ],
   "source": [
    "import re\n",
    "\n",
    "def remove_parentheses(strings_list):\n",
    "\n",
    "    pattern = re.compile(r'\\([^)]*\\)')\n",
    "\n",
    " \n",
    "    result = [pattern.sub('', string) for string in strings_list]\n",
    "\n",
    "    return result\n",
    "\n",
    "sample_text = [\"example (.com)\", \"hr@fliprobo (.com)\", \"github (.com)\", \"Hello (Data Science World)\", \"Data (Scientist)\"]\n",
    "\n",
    "result = remove_parentheses(sample_text)\n",
    "\n",
    "for string in result:\n",
    "    print(string)\n",
    "\n"
   ]
  },
  {
   "cell_type": "code",
   "execution_count": 7,
   "id": "0987503f",
   "metadata": {},
   "outputs": [
    {
     "name": "stdout",
     "output_type": "stream",
     "text": [
      "['Importance', 'Of', 'Regular', 'Expressions', 'In', 'Python']\n"
     ]
    }
   ],
   "source": [
    "import re\n",
    "\n",
    "\n",
    "sample_text = \"ImportanceOfRegularExpressionsInPython\"\n",
    "\n",
    "\n",
    "pattern = r'[A-Z][a-z]*'\n",
    "\n",
    "result = re.findall(pattern, sample_text)\n",
    "print(result)\n"
   ]
  },
  {
   "cell_type": "code",
   "execution_count": 8,
   "id": "b4e7cb3e",
   "metadata": {},
   "outputs": [
    {
     "name": "stdout",
     "output_type": "stream",
     "text": [
      "RegularExpression1 IsAn2 ImportantTopic3 InPython\n"
     ]
    }
   ],
   "source": [
    "import re\n",
    "\n",
    "def insert_spaces_between_words_starting_with_numbers(input_string):\n",
    "    pattern = r'(\\d+)([A-Z][a-z]*)'\n",
    "    \n",
    "    result = re.sub(pattern, r'\\1 \\2', input_string)\n",
    "    \n",
    "    return result\n",
    "\n",
    "sample_text = \"RegularExpression1IsAn2ImportantTopic3InPython\"\n",
    "\n",
    "\n",
    "result = insert_spaces_between_words_starting_with_numbers(sample_text)\n",
    "\n",
    "print(result)"
   ]
  },
  {
   "cell_type": "code",
   "execution_count": 9,
   "id": "49851e12",
   "metadata": {},
   "outputs": [
    {
     "name": "stdout",
     "output_type": "stream",
     "text": [
      "'Valid_String123' is a valid string.\n",
      "'Another_valid_string' is a valid string.\n",
      "'Not Valid$String' is not a valid string.\n"
     ]
    }
   ],
   "source": [
    "## Write a Python program to match a string that contains only upper and lowercase letters, numbers, and underscores.\n",
    "\n",
    "import re\n",
    "\n",
    "def is_valid_string(input_string):\n",
    "    \n",
    "    pattern = r'^[a-zA-Z0-9_]+$'\n",
    "    \n",
    "   \n",
    "    match = re.match(pattern, input_string)\n",
    "    \n",
    "  \n",
    "    if match:\n",
    "        return True\n",
    "    else:\n",
    "        return False\n",
    "\n",
    "\n",
    "test_strings = [\"Valid_String123\", \"Another_valid_string\", \"Not Valid$String\"]\n",
    "\n",
    "for test_string in test_strings:\n",
    "    if is_valid_string(test_string):\n",
    "        print(f\"'{test_string}' is a valid string.\")\n",
    "    else:\n",
    "        print(f\"'{test_string}' is not a valid string.\")"
   ]
  },
  {
   "cell_type": "code",
   "execution_count": 10,
   "id": "7cf4c89d",
   "metadata": {},
   "outputs": [
    {
     "ename": "FileNotFoundError",
     "evalue": "[Errno 2] No such file or directory: 'sample_text.txt'",
     "output_type": "error",
     "traceback": [
      "\u001b[1;31m---------------------------------------------------------------------------\u001b[0m",
      "\u001b[1;31mFileNotFoundError\u001b[0m                         Traceback (most recent call last)",
      "Cell \u001b[1;32mIn[10], line 23\u001b[0m\n\u001b[0;32m     18\u001b[0m     \u001b[38;5;28;01mreturn\u001b[39;00m matches\n\u001b[0;32m     20\u001b[0m file_path \u001b[38;5;241m=\u001b[39m \u001b[38;5;124m'\u001b[39m\u001b[38;5;124msample_text.txt\u001b[39m\u001b[38;5;124m'\u001b[39m\n\u001b[1;32m---> 23\u001b[0m date_matches \u001b[38;5;241m=\u001b[39m extract_date_from_text_file(file_path)\n\u001b[0;32m     25\u001b[0m \u001b[38;5;28;01mfor\u001b[39;00m date_match \u001b[38;5;129;01min\u001b[39;00m date_matches:\n\u001b[0;32m     26\u001b[0m     \u001b[38;5;28mprint\u001b[39m(date_match)\n",
      "Cell \u001b[1;32mIn[10], line 10\u001b[0m, in \u001b[0;36mextract_date_from_text_file\u001b[1;34m(file_path)\u001b[0m\n\u001b[0;32m      9\u001b[0m \u001b[38;5;28;01mdef\u001b[39;00m \u001b[38;5;21mextract_date_from_text_file\u001b[39m(file_path):\n\u001b[1;32m---> 10\u001b[0m     \u001b[38;5;28;01mwith\u001b[39;00m \u001b[38;5;28mopen\u001b[39m(file_path, \u001b[38;5;124m'\u001b[39m\u001b[38;5;124mr\u001b[39m\u001b[38;5;124m'\u001b[39m) \u001b[38;5;28;01mas\u001b[39;00m file:\n\u001b[0;32m     11\u001b[0m         text \u001b[38;5;241m=\u001b[39m file\u001b[38;5;241m.\u001b[39mread()\n\u001b[0;32m     13\u001b[0m     pattern \u001b[38;5;241m=\u001b[39m \u001b[38;5;124mr\u001b[39m\u001b[38;5;124m'\u001b[39m\u001b[38;5;124m\\\u001b[39m\u001b[38;5;124mb(?:January|February|March|April|May|June|July|August|September|October|November|December)\u001b[39m\u001b[38;5;124m\\\u001b[39m\u001b[38;5;124ms+\u001b[39m\u001b[38;5;124m\\\u001b[39m\u001b[38;5;124md\u001b[39m\u001b[38;5;124m{\u001b[39m\u001b[38;5;124m1,2}(?:st|nd|rd|th)?\u001b[39m\u001b[38;5;124m\\\u001b[39m\u001b[38;5;124ms+\u001b[39m\u001b[38;5;124m\\\u001b[39m\u001b[38;5;124md\u001b[39m\u001b[38;5;132;01m{4}\u001b[39;00m\u001b[38;5;124m\\\u001b[39m\u001b[38;5;124mb\u001b[39m\u001b[38;5;124m'\u001b[39m\n",
      "File \u001b[1;32mC:\\ProgramData\\anaconda3\\Lib\\site-packages\\IPython\\core\\interactiveshell.py:284\u001b[0m, in \u001b[0;36m_modified_open\u001b[1;34m(file, *args, **kwargs)\u001b[0m\n\u001b[0;32m    277\u001b[0m \u001b[38;5;28;01mif\u001b[39;00m file \u001b[38;5;129;01min\u001b[39;00m {\u001b[38;5;241m0\u001b[39m, \u001b[38;5;241m1\u001b[39m, \u001b[38;5;241m2\u001b[39m}:\n\u001b[0;32m    278\u001b[0m     \u001b[38;5;28;01mraise\u001b[39;00m \u001b[38;5;167;01mValueError\u001b[39;00m(\n\u001b[0;32m    279\u001b[0m         \u001b[38;5;124mf\u001b[39m\u001b[38;5;124m\"\u001b[39m\u001b[38;5;124mIPython won\u001b[39m\u001b[38;5;124m'\u001b[39m\u001b[38;5;124mt let you open fd=\u001b[39m\u001b[38;5;132;01m{\u001b[39;00mfile\u001b[38;5;132;01m}\u001b[39;00m\u001b[38;5;124m by default \u001b[39m\u001b[38;5;124m\"\u001b[39m\n\u001b[0;32m    280\u001b[0m         \u001b[38;5;124m\"\u001b[39m\u001b[38;5;124mas it is likely to crash IPython. If you know what you are doing, \u001b[39m\u001b[38;5;124m\"\u001b[39m\n\u001b[0;32m    281\u001b[0m         \u001b[38;5;124m\"\u001b[39m\u001b[38;5;124myou can use builtins\u001b[39m\u001b[38;5;124m'\u001b[39m\u001b[38;5;124m open.\u001b[39m\u001b[38;5;124m\"\u001b[39m\n\u001b[0;32m    282\u001b[0m     )\n\u001b[1;32m--> 284\u001b[0m \u001b[38;5;28;01mreturn\u001b[39;00m io_open(file, \u001b[38;5;241m*\u001b[39margs, \u001b[38;5;241m*\u001b[39m\u001b[38;5;241m*\u001b[39mkwargs)\n",
      "\u001b[1;31mFileNotFoundError\u001b[0m: [Errno 2] No such file or directory: 'sample_text.txt'"
     ]
    }
   ],
   "source": [
    "## Write a regular expression in python to match a date string in the form of Month name followed by day number and year stored in a text file.\n",
    "##Sample text :  ' On August 15th 1947 that India was declared independent from British colonialism, and the reins of control were handed over to the leaders of the Country’.\n",
    "##Expected Output- August 15th 1947\n",
    "##Note- Store given sample text in the text file and then extract the date string asked format.\n",
    "\n",
    "\n",
    "import re\n",
    "\n",
    "def extract_date_from_text_file(file_path):\n",
    "    with open(file_path, 'r') as file:\n",
    "        text = file.read()\n",
    "        \n",
    "    pattern = r'\\b(?:January|February|March|April|May|June|July|August|September|October|November|December)\\s+\\d{1,2}(?:st|nd|rd|th)?\\s+\\d{4}\\b'\n",
    "\n",
    "   \n",
    "    matches = re.findall(pattern, text)\n",
    "\n",
    "    return matches\n",
    "\n",
    "file_path = 'sample_text.txt'\n",
    "\n",
    "\n",
    "date_matches = extract_date_from_text_file(file_path)\n",
    "\n",
    "for date_match in date_matches:\n",
    "    print(date_match)"
   ]
  },
  {
   "cell_type": "code",
   "execution_count": 11,
   "id": "a8efea3d",
   "metadata": {},
   "outputs": [
    {
     "name": "stdout",
     "output_type": "stream",
     "text": [
      "'fox' was found in the text.\n",
      "'dog' was found in the text.\n"
     ]
    }
   ],
   "source": [
    "##Write a Python program to search some literals strings in a string. \n",
    "##Sample text : 'The quick brown fox jumps over the lazy dog.'\n",
    "## Searched words : 'fox', 'dog', 'horse'\n",
    "\n",
    "    def search_literals_in_text(text, search_words):\n",
    "    found_words = []\n",
    "    \n",
    "    for word in search_words:\n",
    "        if word in text:\n",
    "            found_words.append(word)\n",
    "    \n",
    "    return found_words\n",
    "\n",
    "\n",
    "sample_text = 'The quick brown fox jumps over the lazy dog.'\n",
    "\n",
    "searched_words = ['fox', 'dog', 'horse']\n",
    "\n",
    "found_words = search_literals_in_text(sample_text, searched_words)\n",
    "\n",
    "for word in found_words:\n",
    "    print(f\"'{word}' was found in the text.\")"
   ]
  },
  {
   "cell_type": "code",
   "execution_count": 12,
   "id": "3fc492bc",
   "metadata": {},
   "outputs": [
    {
     "name": "stdout",
     "output_type": "stream",
     "text": [
      "['exercises', 'exercises', 'exercises']\n"
     ]
    }
   ],
   "source": [
    "## Write a Python program to find the substrings within a string.\n",
    "## Sample text : 'Python exercises, PHP exercises, C# exercises'\n",
    "## Pattern : 'exercises'.\n",
    "\n",
    "import re\n",
    "\n",
    "def find_substrings(text, pattern):\n",
    "    matches = re.finditer(pattern, text)\n",
    "    substrings = [match.group() for match in matches]\n",
    "    return substrings\n",
    "\n",
    "\n",
    "sample_text = 'Python exercises, PHP exercises, C# exercises'\n",
    "\n",
    "\n",
    "pattern = 'exercises'\n",
    "\n",
    "\n",
    "found_substrings = find_substrings(sample_text, pattern)\n",
    "\n",
    "print(found_substrings)"
   ]
  },
  {
   "cell_type": "code",
   "execution_count": 14,
   "id": "59d823ab",
   "metadata": {},
   "outputs": [
    {
     "ename": "IndentationError",
     "evalue": "unindent does not match any outer indentation level (<tokenize>, line 6)",
     "output_type": "error",
     "traceback": [
      "\u001b[1;36m  File \u001b[1;32m<tokenize>:6\u001b[1;36m\u001b[0m\n\u001b[1;33m    new_date = f'{parts[2]}-{parts[1]}-{parts[0]}'\u001b[0m\n\u001b[1;37m    ^\u001b[0m\n\u001b[1;31mIndentationError\u001b[0m\u001b[1;31m:\u001b[0m unindent does not match any outer indentation level\n"
     ]
    }
   ],
   "source": [
    "## Write a Python program to convert a date of yyyy-mm-dd format to dd-mm-yyyy format.\n",
    "\n",
    "def convert_date_format(input_date):\n",
    "     parts = input_date.split('-')\n",
    "  \n",
    "    new_date = f'{parts[2]}-{parts[1]}-{parts[0]}'\n",
    "    \n",
    "    return new_date\n",
    "\n",
    "\n",
    "input_date = '2023-10-08'\n",
    "\n",
    "converted_date = convert_date_format(input_date)\n",
    "\n",
    "print(f'Original Date: {input_date}')\n",
    "print(f'Converted Date: {converted_date}')"
   ]
  },
  {
   "cell_type": "code",
   "execution_count": 15,
   "id": "84a47020",
   "metadata": {},
   "outputs": [
    {
     "name": "stdout",
     "output_type": "stream",
     "text": [
      "['01.12', '145.8', '3.01', '27.25', '0.25']\n"
     ]
    }
   ],
   "source": [
    "## Create a function in python to find all decimal numbers with a precision of 1 or 2 in a string. The use of the re.compile() method is mandatory.\n",
    "## Sample Text: \"01.12 0132.123 2.31875 145.8 3.01 27.25 0.25\"\n",
    "## Expected Output: ['01.12', '145.8', '3.01', '27.25', '0.25']\n",
    "\n",
    "import re\n",
    "\n",
    "def find_decimal_numbers(text):\n",
    "    \n",
    "    pattern = re.compile(r'\\b\\d+\\.\\d{1,2}\\b')\n",
    "    \n",
    "    matches = pattern.findall(text)\n",
    "    \n",
    "    return matches\n",
    "\n",
    "\n",
    "sample_text = \"01.12 0132.123 2.31875 145.8 3.01 27.25 0.25\"\n",
    "\n",
    "result = find_decimal_numbers(sample_text)\n",
    "\n",
    "\n",
    "print(result)"
   ]
  },
  {
   "cell_type": "code",
   "execution_count": 16,
   "id": "bc8def2f",
   "metadata": {},
   "outputs": [
    {
     "name": "stdout",
     "output_type": "stream",
     "text": [
      "Regular Expression Is An Important Topic In Python\n"
     ]
    }
   ],
   "source": [
    "## Create a function in python to insert spaces between words starting with capital letters.\n",
    "## Sample Text: “RegularExpressionIsAnImportantTopicInPython\"\n",
    "## Expected Output: Regular Expression Is An Important Topic In Python\n",
    "\n",
    "import re\n",
    "\n",
    "def insert_spaces_between_capital_words(input_string):\n",
    "   \n",
    "    pattern = r'([A-Z][a-z]*)'\n",
    " \n",
    "    result = re.sub(pattern, r' \\1', input_string)\n",
    "    \n",
    "    return result.strip()  # Remove leading space if any\n",
    "\n",
    "sample_text = \"RegularExpressionIsAnImportantTopicInPython\"\n",
    "\n",
    "result = insert_spaces_between_capital_words(sample_text)\n",
    "\n",
    "print(result)\n"
   ]
  },
  {
   "cell_type": "code",
   "execution_count": 17,
   "id": "c566eb25",
   "metadata": {},
   "outputs": [
    {
     "name": "stdout",
     "output_type": "stream",
     "text": [
      "['The', 'Quick', 'Fox', 'Lazy', 'Dog']\n"
     ]
    }
   ],
   "source": [
    "## Python regex to find sequences of one upper case letter followed by lower case lettersimport re\n",
    "\n",
    "text = \"The Quick brown Fox jumped over the Lazy Dog.\"\n",
    "\n",
    "pattern = r'[A-Z][a-z]+'\n",
    "\n",
    "matches = re.findall(pattern, text)\n",
    "\n",
    "print(matches)\n"
   ]
  },
  {
   "cell_type": "code",
   "execution_count": 19,
   "id": "dd34835c",
   "metadata": {},
   "outputs": [
    {
     "name": "stdout",
     "output_type": "stream",
     "text": [
      "Hello hello world\n"
     ]
    }
   ],
   "source": [
    "##Write a Python program to remove continuous duplicate words from Sentence using Regular Expression.\n",
    "##Sample Text: \"Hello hello world world\"\n",
    "##Expected Output: Hello hello world\n",
    "\n",
    "\n",
    "import re\n",
    "\n",
    "def remove_continuous_duplicates(text):\n",
    "   \n",
    "    pattern = r'\\b(\\w+)(\\s+\\1)+\\b'\n",
    "    \n",
    "    result = re.sub(pattern, r'\\1', text)\n",
    "    \n",
    "    return result\n",
    "\n",
    "sample_text = \"Hello hello world world\"\n",
    "\n",
    "result = remove_continuous_duplicates(sample_text)\n",
    "\n",
    "print(result)\n"
   ]
  },
  {
   "cell_type": "code",
   "execution_count": 21,
   "id": "6f4246dc",
   "metadata": {},
   "outputs": [
    {
     "name": "stdout",
     "output_type": "stream",
     "text": [
      "'Hello123' ends with an alphanumeric character.\n",
      "'world!' does not end with an alphanumeric character.\n",
      "'12345' ends with an alphanumeric character.\n",
      "'Python3' ends with an alphanumeric character.\n"
     ]
    }
   ],
   "source": [
    "## Write a python program using RegEx to accept string ending with alphanumeric character.\n",
    "\n",
    "import re\n",
    "\n",
    "def ends_with_alphanumeric(input_string):\n",
    "   \n",
    "    pattern = r'.*\\w$'\n",
    "   \n",
    "    match = re.match(pattern, input_string)\n",
    "    \n",
    "    if match:\n",
    "        return True\n",
    "    else:\n",
    "        return False\n",
    "\n",
    "test_strings = [\"Hello123\", \"world!\", \"12345\", \"Python3\"]\n",
    "\n",
    "for test_string in test_strings:\n",
    "    if ends_with_alphanumeric(test_string):\n",
    "        print(f\"'{test_string}' ends with an alphanumeric character.\")\n",
    "    else:\n",
    "        print(f\"'{test_string}' does not end with an alphanumeric character.\")"
   ]
  },
  {
   "cell_type": "code",
   "execution_count": 22,
   "id": "ba6ca85b",
   "metadata": {},
   "outputs": [
    {
     "name": "stdout",
     "output_type": "stream",
     "text": [
      "['#Doltiwal', '#xyzabc', '#Demonetization']\n"
     ]
    }
   ],
   "source": [
    "##Write a python program using RegEx to extract the hashtags.\n",
    "##Sample Text:  \"\"\"RT @kapil_kausik: #Doltiwal I mean #xyzabc is \"hurt\" by #Demonetization as the same has rendered USELESS <ed><U+00A0><U+00BD><ed><U+00B1><U+0089> \"acquired funds\" No wo\"\"\"\n",
    "##Expected Output: ['#Doltiwal', '#xyzabc', '#Demonetization']\n",
    "\n",
    "\n",
    "import re\n",
    "\n",
    "def extract_hashtags(text):\n",
    " \n",
    "    pattern = r'#\\w+'\n",
    "\n",
    "    hashtags = re.findall(pattern, text)\n",
    "    \n",
    "    return hashtags\n",
    "\n",
    "sample_text = \"\"\"RT @kapil_kausik: #Doltiwal I mean #xyzabc is \"hurt\" by #Demonetization as the same has rendered USELESS <ed><U+00A0><U+00BD><ed><U+00B1><U+0089> \"acquired funds\" No wo\"\"\"\n",
    "\n",
    "extracted_hashtags = extract_hashtags(sample_text)\n",
    "\n",
    "print(extracted_hashtags)"
   ]
  },
  {
   "cell_type": "code",
   "execution_count": 24,
   "id": "fa8a02fd",
   "metadata": {},
   "outputs": [
    {
     "name": "stdout",
     "output_type": "stream",
     "text": [
      "following example creates ArrayList a capacity elements. 4 elements added ArrayList ArrayList trimmed accordingly.\n"
     ]
    }
   ],
   "source": [
    "##Create a function in python to remove all words from a string of length between 2 and 4.\n",
    "##The use of the re.compile() method is mandatory.\n",
    "##Sample Text: \"The following example creates an ArrayList with a capacity of 50 elements. 4 elements are then added to the ArrayList and the ArrayList is trimmed accordingly.\"\n",
    "##Expected Output:  following example creates ArrayList a capacity elements. 4 elements added ArrayList ArrayList trimmed accordingly.\n",
    "\n",
    "\n",
    "import re\n",
    "\n",
    "def remove_words_between_lengths(text):\n",
    "  \n",
    "    pattern = re.compile(r'\\b\\w{2,4}\\b')\n",
    "\n",
    "    result = pattern.sub('', text)\n",
    "\n",
    "    result = ' '.join(result.split())\n",
    "    \n",
    "    return result\n",
    "\n",
    "sample_text = \"The following example creates an ArrayList with a capacity of 50 elements. 4 elements are then added to the ArrayList and the ArrayList is trimmed accordingly.\"\n",
    "\n",
    "result = remove_words_between_lengths(sample_text)\n",
    "\n",
    "print(result)"
   ]
  },
  {
   "cell_type": "code",
   "execution_count": null,
   "id": "f217e2fa",
   "metadata": {},
   "outputs": [],
   "source": []
  }
 ],
 "metadata": {
  "kernelspec": {
   "display_name": "Python 3 (ipykernel)",
   "language": "python",
   "name": "python3"
  },
  "language_info": {
   "codemirror_mode": {
    "name": "ipython",
    "version": 3
   },
   "file_extension": ".py",
   "mimetype": "text/x-python",
   "name": "python",
   "nbconvert_exporter": "python",
   "pygments_lexer": "ipython3",
   "version": "3.11.3"
  }
 },
 "nbformat": 4,
 "nbformat_minor": 5
}
